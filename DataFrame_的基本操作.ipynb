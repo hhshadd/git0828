{
  "nbformat": 4,
  "nbformat_minor": 0,
  "metadata": {
    "colab": {
      "provenance": [],
      "include_colab_link": true
    },
    "kernelspec": {
      "name": "python3",
      "display_name": "Python 3"
    },
    "language_info": {
      "name": "python"
    }
  },
  "cells": [
    {
      "cell_type": "markdown",
      "metadata": {
        "id": "view-in-github",
        "colab_type": "text"
      },
      "source": [
        "<a href=\"https://colab.research.google.com/github/hhshadd/git0828/blob/main/DataFrame_%E7%9A%84%E5%9F%BA%E6%9C%AC%E6%93%8D%E4%BD%9C.ipynb\" target=\"_parent\"><img src=\"https://colab.research.google.com/assets/colab-badge.svg\" alt=\"Open In Colab\"/></a>"
      ]
    },
    {
      "cell_type": "markdown",
      "source": [
        "`DataFrame` 是 Pandas 中最常用的數據結構，類似於 Excel 中的表格。以下是一些常見的 `DataFrame` 基本操作，幫助你快速上手 Pandas。\n",
        "\n",
        "### 1. **建立 DataFrame**\n",
        "\n",
        "你可以從字典、列表、CSV 文件等多種方式建立 `DataFrame`：\n",
        "\n",
        "#### 1.1 從字典建立："
      ],
      "metadata": {
        "id": "7NeqCEjvYZbV"
      }
    },
    {
      "cell_type": "code",
      "source": [
        "import pandas as pd\n",
        "\n",
        "data = {\n",
        "    '姓名': ['王小明', '李美麗', '張大偉'],\n",
        "    '年齡': [25, 30, 22],\n",
        "    '城市': ['台北', '高雄', '台中']\n",
        "}\n",
        "\n",
        "df = pd.DataFrame(data)\n",
        "print(df)"
      ],
      "metadata": {
        "colab": {
          "base_uri": "https://localhost:8080/"
        },
        "id": "qMddpb7kZnQj",
        "outputId": "c2c40b3a-4bb7-4e00-aba3-549e07446741"
      },
      "execution_count": null,
      "outputs": [
        {
          "output_type": "stream",
          "name": "stdout",
          "text": [
            "    姓名  年齡  城市\n",
            "0  王小明  25  台北\n",
            "1  李美麗  30  高雄\n",
            "2  張大偉  22  台中\n"
          ]
        }
      ]
    },
    {
      "cell_type": "markdown",
      "source": [
        "\n",
        "### 2. **讀取 CSV 文件**"
      ],
      "metadata": {
        "id": "yXJZ-a8vZp4g"
      }
    },
    {
      "cell_type": "code",
      "source": [
        "df = pd.read_csv('example.csv')\n",
        "print(df.head())  # 查看前5行數據"
      ],
      "metadata": {
        "colab": {
          "base_uri": "https://localhost:8080/"
        },
        "id": "EBm6VaxLZsIc",
        "outputId": "82443bfe-582f-4f5c-a4c9-c0b8cd38dec6"
      },
      "execution_count": null,
      "outputs": [
        {
          "output_type": "stream",
          "name": "stdout",
          "text": [
            "    姓名   年齡   城市\n",
            "0  王小明   25   台北\n",
            "1  李美麗   30   高雄\n",
            "2  張大偉   22   台中\n"
          ]
        }
      ]
    },
    {
      "cell_type": "markdown",
      "source": [
        "### 3. **查看基本資訊**\n",
        "\n",
        "#### 3.1 查看前幾行："
      ],
      "metadata": {
        "id": "alfs_xxZZuE-"
      }
    },
    {
      "cell_type": "code",
      "source": [
        "print(df.head(2))  # 查看前2行"
      ],
      "metadata": {
        "colab": {
          "base_uri": "https://localhost:8080/"
        },
        "id": "IDuBQV2hZv9z",
        "outputId": "e7da40f1-1aff-4ede-91a5-12af2ac2e6da"
      },
      "execution_count": null,
      "outputs": [
        {
          "output_type": "stream",
          "name": "stdout",
          "text": [
            "    姓名   年齡   城市\n",
            "0  王小明   25   台北\n",
            "1  李美麗   30   高雄\n"
          ]
        }
      ]
    },
    {
      "cell_type": "markdown",
      "source": [
        "#### 3.2 查看 DataFrame 的結構和資訊："
      ],
      "metadata": {
        "id": "ZFtEpWOPZykx"
      }
    },
    {
      "cell_type": "code",
      "source": [
        "print(df.info())  # 顯示欄位名稱、非空值數量、數據類型等\n",
        "print(df.describe())  # 顯示統計摘要"
      ],
      "metadata": {
        "colab": {
          "base_uri": "https://localhost:8080/"
        },
        "id": "NDIzadwqZzId",
        "outputId": "36ac0fd7-f8d3-4e7e-8b31-34d339128598"
      },
      "execution_count": null,
      "outputs": [
        {
          "output_type": "stream",
          "name": "stdout",
          "text": [
            "<class 'pandas.core.frame.DataFrame'>\n",
            "RangeIndex: 3 entries, 0 to 2\n",
            "Data columns (total 3 columns):\n",
            " #   Column  Non-Null Count  Dtype \n",
            "---  ------  --------------  ----- \n",
            " 0   姓名      3 non-null      object\n",
            " 1    年齡     3 non-null      int64 \n",
            " 2    城市     3 non-null      object\n",
            "dtypes: int64(1), object(2)\n",
            "memory usage: 200.0+ bytes\n",
            "None\n",
            "              年齡\n",
            "count   3.000000\n",
            "mean   25.666667\n",
            "std     4.041452\n",
            "min    22.000000\n",
            "25%    23.500000\n",
            "50%    25.000000\n",
            "75%    27.500000\n",
            "max    30.000000\n"
          ]
        }
      ]
    },
    {
      "cell_type": "markdown",
      "source": [
        "### 4. **選取數據**\n",
        "\n",
        "#### 4.1 選取單列："
      ],
      "metadata": {
        "id": "1Iyc7fr1Z1g4"
      }
    },
    {
      "cell_type": "code",
      "source": [
        "print(df['姓名'])  # 選取 \"姓名\" 列"
      ],
      "metadata": {
        "colab": {
          "base_uri": "https://localhost:8080/"
        },
        "id": "kmAa8u0MZ2oz",
        "outputId": "b5d86e31-6e91-4052-ceab-5f39105166a4"
      },
      "execution_count": null,
      "outputs": [
        {
          "output_type": "stream",
          "name": "stdout",
          "text": [
            "0    王小明\n",
            "1    李美麗\n",
            "2    張大偉\n",
            "Name: 姓名, dtype: object\n"
          ]
        }
      ]
    },
    {
      "cell_type": "markdown",
      "source": [
        "#### 4.2 選取多列："
      ],
      "metadata": {
        "id": "bz8dhMzdZ7AA"
      }
    },
    {
      "cell_type": "code",
      "source": [
        "print(df[['姓名', '城市']])  # 同時選取 \"姓名\" 和 \"城市\" 列"
      ],
      "metadata": {
        "colab": {
          "base_uri": "https://localhost:8080/",
          "height": 321
        },
        "id": "Gu0NMc75Z8jP",
        "outputId": "e0cee1d3-5aa9-4e98-f4f9-7147305032c8"
      },
      "execution_count": null,
      "outputs": [
        {
          "output_type": "error",
          "ename": "KeyError",
          "evalue": "\"['城市'] not in index\"",
          "traceback": [
            "\u001b[0;31m---------------------------------------------------------------------------\u001b[0m",
            "\u001b[0;31mKeyError\u001b[0m                                  Traceback (most recent call last)",
            "\u001b[0;32m<ipython-input-84-f35c9eef9439>\u001b[0m in \u001b[0;36m<cell line: 1>\u001b[0;34m()\u001b[0m\n\u001b[0;32m----> 1\u001b[0;31m \u001b[0mprint\u001b[0m\u001b[0;34m(\u001b[0m\u001b[0mdf\u001b[0m\u001b[0;34m[\u001b[0m\u001b[0;34m[\u001b[0m\u001b[0;34m'姓名'\u001b[0m\u001b[0;34m,\u001b[0m \u001b[0;34m'城市'\u001b[0m\u001b[0;34m]\u001b[0m\u001b[0;34m]\u001b[0m\u001b[0;34m)\u001b[0m  \u001b[0;31m# 同時選取 \"姓名\" 和 \"城市\" 列\u001b[0m\u001b[0;34m\u001b[0m\u001b[0;34m\u001b[0m\u001b[0m\n\u001b[0m",
            "\u001b[0;32m/usr/local/lib/python3.10/dist-packages/pandas/core/frame.py\u001b[0m in \u001b[0;36m__getitem__\u001b[0;34m(self, key)\u001b[0m\n\u001b[1;32m   3897\u001b[0m             \u001b[0;32mif\u001b[0m \u001b[0mis_iterator\u001b[0m\u001b[0;34m(\u001b[0m\u001b[0mkey\u001b[0m\u001b[0;34m)\u001b[0m\u001b[0;34m:\u001b[0m\u001b[0;34m\u001b[0m\u001b[0;34m\u001b[0m\u001b[0m\n\u001b[1;32m   3898\u001b[0m                 \u001b[0mkey\u001b[0m \u001b[0;34m=\u001b[0m \u001b[0mlist\u001b[0m\u001b[0;34m(\u001b[0m\u001b[0mkey\u001b[0m\u001b[0;34m)\u001b[0m\u001b[0;34m\u001b[0m\u001b[0;34m\u001b[0m\u001b[0m\n\u001b[0;32m-> 3899\u001b[0;31m             \u001b[0mindexer\u001b[0m \u001b[0;34m=\u001b[0m \u001b[0mself\u001b[0m\u001b[0;34m.\u001b[0m\u001b[0mcolumns\u001b[0m\u001b[0;34m.\u001b[0m\u001b[0m_get_indexer_strict\u001b[0m\u001b[0;34m(\u001b[0m\u001b[0mkey\u001b[0m\u001b[0;34m,\u001b[0m \u001b[0;34m\"columns\"\u001b[0m\u001b[0;34m)\u001b[0m\u001b[0;34m[\u001b[0m\u001b[0;36m1\u001b[0m\u001b[0;34m]\u001b[0m\u001b[0;34m\u001b[0m\u001b[0;34m\u001b[0m\u001b[0m\n\u001b[0m\u001b[1;32m   3900\u001b[0m \u001b[0;34m\u001b[0m\u001b[0m\n\u001b[1;32m   3901\u001b[0m         \u001b[0;31m# take() does not accept boolean indexers\u001b[0m\u001b[0;34m\u001b[0m\u001b[0;34m\u001b[0m\u001b[0m\n",
            "\u001b[0;32m/usr/local/lib/python3.10/dist-packages/pandas/core/indexes/base.py\u001b[0m in \u001b[0;36m_get_indexer_strict\u001b[0;34m(self, key, axis_name)\u001b[0m\n\u001b[1;32m   6113\u001b[0m             \u001b[0mkeyarr\u001b[0m\u001b[0;34m,\u001b[0m \u001b[0mindexer\u001b[0m\u001b[0;34m,\u001b[0m \u001b[0mnew_indexer\u001b[0m \u001b[0;34m=\u001b[0m \u001b[0mself\u001b[0m\u001b[0;34m.\u001b[0m\u001b[0m_reindex_non_unique\u001b[0m\u001b[0;34m(\u001b[0m\u001b[0mkeyarr\u001b[0m\u001b[0;34m)\u001b[0m\u001b[0;34m\u001b[0m\u001b[0;34m\u001b[0m\u001b[0m\n\u001b[1;32m   6114\u001b[0m \u001b[0;34m\u001b[0m\u001b[0m\n\u001b[0;32m-> 6115\u001b[0;31m         \u001b[0mself\u001b[0m\u001b[0;34m.\u001b[0m\u001b[0m_raise_if_missing\u001b[0m\u001b[0;34m(\u001b[0m\u001b[0mkeyarr\u001b[0m\u001b[0;34m,\u001b[0m \u001b[0mindexer\u001b[0m\u001b[0;34m,\u001b[0m \u001b[0maxis_name\u001b[0m\u001b[0;34m)\u001b[0m\u001b[0;34m\u001b[0m\u001b[0;34m\u001b[0m\u001b[0m\n\u001b[0m\u001b[1;32m   6116\u001b[0m \u001b[0;34m\u001b[0m\u001b[0m\n\u001b[1;32m   6117\u001b[0m         \u001b[0mkeyarr\u001b[0m \u001b[0;34m=\u001b[0m \u001b[0mself\u001b[0m\u001b[0;34m.\u001b[0m\u001b[0mtake\u001b[0m\u001b[0;34m(\u001b[0m\u001b[0mindexer\u001b[0m\u001b[0;34m)\u001b[0m\u001b[0;34m\u001b[0m\u001b[0;34m\u001b[0m\u001b[0m\n",
            "\u001b[0;32m/usr/local/lib/python3.10/dist-packages/pandas/core/indexes/base.py\u001b[0m in \u001b[0;36m_raise_if_missing\u001b[0;34m(self, key, indexer, axis_name)\u001b[0m\n\u001b[1;32m   6177\u001b[0m \u001b[0;34m\u001b[0m\u001b[0m\n\u001b[1;32m   6178\u001b[0m             \u001b[0mnot_found\u001b[0m \u001b[0;34m=\u001b[0m \u001b[0mlist\u001b[0m\u001b[0;34m(\u001b[0m\u001b[0mensure_index\u001b[0m\u001b[0;34m(\u001b[0m\u001b[0mkey\u001b[0m\u001b[0;34m)\u001b[0m\u001b[0;34m[\u001b[0m\u001b[0mmissing_mask\u001b[0m\u001b[0;34m.\u001b[0m\u001b[0mnonzero\u001b[0m\u001b[0;34m(\u001b[0m\u001b[0;34m)\u001b[0m\u001b[0;34m[\u001b[0m\u001b[0;36m0\u001b[0m\u001b[0;34m]\u001b[0m\u001b[0;34m]\u001b[0m\u001b[0;34m.\u001b[0m\u001b[0munique\u001b[0m\u001b[0;34m(\u001b[0m\u001b[0;34m)\u001b[0m\u001b[0;34m)\u001b[0m\u001b[0;34m\u001b[0m\u001b[0;34m\u001b[0m\u001b[0m\n\u001b[0;32m-> 6179\u001b[0;31m             \u001b[0;32mraise\u001b[0m \u001b[0mKeyError\u001b[0m\u001b[0;34m(\u001b[0m\u001b[0;34mf\"{not_found} not in index\"\u001b[0m\u001b[0;34m)\u001b[0m\u001b[0;34m\u001b[0m\u001b[0;34m\u001b[0m\u001b[0m\n\u001b[0m\u001b[1;32m   6180\u001b[0m \u001b[0;34m\u001b[0m\u001b[0m\n\u001b[1;32m   6181\u001b[0m     \u001b[0;34m@\u001b[0m\u001b[0moverload\u001b[0m\u001b[0;34m\u001b[0m\u001b[0;34m\u001b[0m\u001b[0m\n",
            "\u001b[0;31mKeyError\u001b[0m: \"['城市'] not in index\""
          ]
        }
      ]
    },
    {
      "cell_type": "markdown",
      "source": [
        "## 出錯了？怎麼辦？\n",
        "求助ai的協助！"
      ],
      "metadata": {
        "id": "aKTeKUspcMXC"
      }
    },
    {
      "cell_type": "code",
      "source": [
        "print(df.columns)  # 檢查所有列的名稱，確保拼寫正確"
      ],
      "metadata": {
        "colab": {
          "base_uri": "https://localhost:8080/"
        },
        "id": "8w-VrzStcLJi",
        "outputId": "7dedb57e-328f-4391-cdcb-f59a7693e4c0"
      },
      "execution_count": null,
      "outputs": [
        {
          "output_type": "stream",
          "name": "stdout",
          "text": [
            "Index(['姓名', ' 年齡', ' 城市'], dtype='object')\n"
          ]
        }
      ]
    },
    {
      "cell_type": "code",
      "source": [
        "print(df['城市']) #這個為什麼不行？"
      ],
      "metadata": {
        "colab": {
          "base_uri": "https://localhost:8080/",
          "height": 616
        },
        "id": "r3W6YYMVdCHE",
        "outputId": "5f5b05d7-d27c-4067-c7da-492dd1169a36"
      },
      "execution_count": null,
      "outputs": [
        {
          "output_type": "error",
          "ename": "KeyError",
          "evalue": "'城市'",
          "traceback": [
            "\u001b[0;31m---------------------------------------------------------------------------\u001b[0m",
            "\u001b[0;31mKeyError\u001b[0m                                  Traceback (most recent call last)",
            "\u001b[0;32m/usr/local/lib/python3.10/dist-packages/pandas/core/indexes/base.py\u001b[0m in \u001b[0;36mget_loc\u001b[0;34m(self, key)\u001b[0m\n\u001b[1;32m   3790\u001b[0m         \u001b[0;32mtry\u001b[0m\u001b[0;34m:\u001b[0m\u001b[0;34m\u001b[0m\u001b[0;34m\u001b[0m\u001b[0m\n\u001b[0;32m-> 3791\u001b[0;31m             \u001b[0;32mreturn\u001b[0m \u001b[0mself\u001b[0m\u001b[0;34m.\u001b[0m\u001b[0m_engine\u001b[0m\u001b[0;34m.\u001b[0m\u001b[0mget_loc\u001b[0m\u001b[0;34m(\u001b[0m\u001b[0mcasted_key\u001b[0m\u001b[0;34m)\u001b[0m\u001b[0;34m\u001b[0m\u001b[0;34m\u001b[0m\u001b[0m\n\u001b[0m\u001b[1;32m   3792\u001b[0m         \u001b[0;32mexcept\u001b[0m \u001b[0mKeyError\u001b[0m \u001b[0;32mas\u001b[0m \u001b[0merr\u001b[0m\u001b[0;34m:\u001b[0m\u001b[0;34m\u001b[0m\u001b[0;34m\u001b[0m\u001b[0m\n",
            "\u001b[0;32mindex.pyx\u001b[0m in \u001b[0;36mpandas._libs.index.IndexEngine.get_loc\u001b[0;34m()\u001b[0m\n",
            "\u001b[0;32mindex.pyx\u001b[0m in \u001b[0;36mpandas._libs.index.IndexEngine.get_loc\u001b[0;34m()\u001b[0m\n",
            "\u001b[0;32mpandas/_libs/hashtable_class_helper.pxi\u001b[0m in \u001b[0;36mpandas._libs.hashtable.PyObjectHashTable.get_item\u001b[0;34m()\u001b[0m\n",
            "\u001b[0;32mpandas/_libs/hashtable_class_helper.pxi\u001b[0m in \u001b[0;36mpandas._libs.hashtable.PyObjectHashTable.get_item\u001b[0;34m()\u001b[0m\n",
            "\u001b[0;31mKeyError\u001b[0m: '城市'",
            "\nThe above exception was the direct cause of the following exception:\n",
            "\u001b[0;31mKeyError\u001b[0m                                  Traceback (most recent call last)",
            "\u001b[0;32m<ipython-input-86-9046f908f15b>\u001b[0m in \u001b[0;36m<cell line: 1>\u001b[0;34m()\u001b[0m\n\u001b[0;32m----> 1\u001b[0;31m \u001b[0mprint\u001b[0m\u001b[0;34m(\u001b[0m\u001b[0mdf\u001b[0m\u001b[0;34m[\u001b[0m\u001b[0;34m'城市'\u001b[0m\u001b[0;34m]\u001b[0m\u001b[0;34m)\u001b[0m \u001b[0;31m#這個為什麼不行？\u001b[0m\u001b[0;34m\u001b[0m\u001b[0;34m\u001b[0m\u001b[0m\n\u001b[0m",
            "\u001b[0;32m/usr/local/lib/python3.10/dist-packages/pandas/core/frame.py\u001b[0m in \u001b[0;36m__getitem__\u001b[0;34m(self, key)\u001b[0m\n\u001b[1;32m   3891\u001b[0m             \u001b[0;32mif\u001b[0m \u001b[0mself\u001b[0m\u001b[0;34m.\u001b[0m\u001b[0mcolumns\u001b[0m\u001b[0;34m.\u001b[0m\u001b[0mnlevels\u001b[0m \u001b[0;34m>\u001b[0m \u001b[0;36m1\u001b[0m\u001b[0;34m:\u001b[0m\u001b[0;34m\u001b[0m\u001b[0;34m\u001b[0m\u001b[0m\n\u001b[1;32m   3892\u001b[0m                 \u001b[0;32mreturn\u001b[0m \u001b[0mself\u001b[0m\u001b[0;34m.\u001b[0m\u001b[0m_getitem_multilevel\u001b[0m\u001b[0;34m(\u001b[0m\u001b[0mkey\u001b[0m\u001b[0;34m)\u001b[0m\u001b[0;34m\u001b[0m\u001b[0;34m\u001b[0m\u001b[0m\n\u001b[0;32m-> 3893\u001b[0;31m             \u001b[0mindexer\u001b[0m \u001b[0;34m=\u001b[0m \u001b[0mself\u001b[0m\u001b[0;34m.\u001b[0m\u001b[0mcolumns\u001b[0m\u001b[0;34m.\u001b[0m\u001b[0mget_loc\u001b[0m\u001b[0;34m(\u001b[0m\u001b[0mkey\u001b[0m\u001b[0;34m)\u001b[0m\u001b[0;34m\u001b[0m\u001b[0;34m\u001b[0m\u001b[0m\n\u001b[0m\u001b[1;32m   3894\u001b[0m             \u001b[0;32mif\u001b[0m \u001b[0mis_integer\u001b[0m\u001b[0;34m(\u001b[0m\u001b[0mindexer\u001b[0m\u001b[0;34m)\u001b[0m\u001b[0;34m:\u001b[0m\u001b[0;34m\u001b[0m\u001b[0;34m\u001b[0m\u001b[0m\n\u001b[1;32m   3895\u001b[0m                 \u001b[0mindexer\u001b[0m \u001b[0;34m=\u001b[0m \u001b[0;34m[\u001b[0m\u001b[0mindexer\u001b[0m\u001b[0;34m]\u001b[0m\u001b[0;34m\u001b[0m\u001b[0;34m\u001b[0m\u001b[0m\n",
            "\u001b[0;32m/usr/local/lib/python3.10/dist-packages/pandas/core/indexes/base.py\u001b[0m in \u001b[0;36mget_loc\u001b[0;34m(self, key)\u001b[0m\n\u001b[1;32m   3796\u001b[0m             ):\n\u001b[1;32m   3797\u001b[0m                 \u001b[0;32mraise\u001b[0m \u001b[0mInvalidIndexError\u001b[0m\u001b[0;34m(\u001b[0m\u001b[0mkey\u001b[0m\u001b[0;34m)\u001b[0m\u001b[0;34m\u001b[0m\u001b[0;34m\u001b[0m\u001b[0m\n\u001b[0;32m-> 3798\u001b[0;31m             \u001b[0;32mraise\u001b[0m \u001b[0mKeyError\u001b[0m\u001b[0;34m(\u001b[0m\u001b[0mkey\u001b[0m\u001b[0;34m)\u001b[0m \u001b[0;32mfrom\u001b[0m \u001b[0merr\u001b[0m\u001b[0;34m\u001b[0m\u001b[0;34m\u001b[0m\u001b[0m\n\u001b[0m\u001b[1;32m   3799\u001b[0m         \u001b[0;32mexcept\u001b[0m \u001b[0mTypeError\u001b[0m\u001b[0;34m:\u001b[0m\u001b[0;34m\u001b[0m\u001b[0;34m\u001b[0m\u001b[0m\n\u001b[1;32m   3800\u001b[0m             \u001b[0;31m# If we have a listlike key, _check_indexing_error will raise\u001b[0m\u001b[0;34m\u001b[0m\u001b[0;34m\u001b[0m\u001b[0m\n",
            "\u001b[0;31mKeyError\u001b[0m: '城市'"
          ]
        }
      ]
    },
    {
      "cell_type": "code",
      "source": [
        "print(df[' 城市']) #這個為什麼可以？"
      ],
      "metadata": {
        "colab": {
          "base_uri": "https://localhost:8080/"
        },
        "id": "T0h31D-Jcd8I",
        "outputId": "762ffc70-0144-46be-8c0a-7a2439c94147"
      },
      "execution_count": null,
      "outputs": [
        {
          "output_type": "stream",
          "name": "stdout",
          "text": [
            "0     台北\n",
            "1     高雄\n",
            "2     台中\n",
            "Name:  城市, dtype: object\n"
          ]
        }
      ]
    },
    {
      "cell_type": "markdown",
      "source": [
        "- 被CSV檔給陰了...\n",
        "- 注意：空白很重要，差一個空白也不行！\n",
        "- 交作業也一樣喔！"
      ],
      "metadata": {
        "id": "RNi9wqrPdKNm"
      }
    },
    {
      "cell_type": "markdown",
      "source": [
        "根據 `df.columns` 的輸出結果，列名 `年齡` 和 `城市` 之前有空格，這可能是導致 `KeyError` 的原因。在你嘗試選取這些列時，由於多了空格，Pandas 找不到對應的列名。\n",
        "\n",
        "### 解決方法：\n",
        "可以使用 `str.strip()` 方法來移除所有列名中的前後空格，這樣就能正確選取列了：\n",
        "\n"
      ],
      "metadata": {
        "id": "gt1Oic6Rd9TW"
      }
    },
    {
      "cell_type": "code",
      "source": [
        "# 移除列名中的前後空格\n",
        "df.columns = df.columns.str.strip()\n",
        "df['城市'] = df['城市'].str.strip()\n",
        "\n",
        "# 再次選取列\n",
        "print(df[['姓名', '年齡', '城市']])"
      ],
      "metadata": {
        "colab": {
          "base_uri": "https://localhost:8080/"
        },
        "id": "yXAjYS5AeBOo",
        "outputId": "b228b96c-ba8c-4e53-cdd1-b75856b699d8"
      },
      "execution_count": null,
      "outputs": [
        {
          "output_type": "stream",
          "name": "stdout",
          "text": [
            "    姓名  年齡  城市\n",
            "0  王小明  25  台北\n",
            "1  李美麗  30  高雄\n",
            "2  張大偉  22  台中\n"
          ]
        }
      ]
    },
    {
      "cell_type": "markdown",
      "source": [
        "#### 4.3 選取特定行（使用行索引）："
      ],
      "metadata": {
        "id": "J-vGMpa4Z929"
      }
    },
    {
      "cell_type": "code",
      "source": [
        "print(df.iloc[0])  # 選取第一行數據\n",
        "print(df.iloc[1:3])  # 選取第 2 到 3 行數據"
      ],
      "metadata": {
        "colab": {
          "base_uri": "https://localhost:8080/"
        },
        "id": "73KA4m3WZ-6f",
        "outputId": "88392dc0-9f9f-48eb-c296-dbd3f43b57cc"
      },
      "execution_count": null,
      "outputs": [
        {
          "output_type": "stream",
          "name": "stdout",
          "text": [
            "姓名    王小明\n",
            "年齡     25\n",
            "城市     台北\n",
            "Name: 0, dtype: object\n",
            "    姓名  年齡  城市\n",
            "1  李美麗  30  高雄\n",
            "2  張大偉  22  台中\n"
          ]
        }
      ]
    },
    {
      "cell_type": "markdown",
      "source": [
        "#### 4.4 根據條件篩選："
      ],
      "metadata": {
        "id": "OoS_d07paAfX"
      }
    },
    {
      "cell_type": "code",
      "source": [
        "print(df[df[' 年齡'] > 25])  # 篩選年齡大於25的行\n",
        "df[' 年齡']"
      ],
      "metadata": {
        "colab": {
          "base_uri": "https://localhost:8080/",
          "height": 213
        },
        "id": "xPxugX9aaB00",
        "outputId": "30ef2073-6c13-4e0b-a882-d5622fd886d7"
      },
      "execution_count": null,
      "outputs": [
        {
          "output_type": "stream",
          "name": "stdout",
          "text": [
            "    姓名   年齡   城市\n",
            "1  李美麗   30   高雄\n"
          ]
        },
        {
          "output_type": "execute_result",
          "data": {
            "text/plain": [
              "0    25\n",
              "1    30\n",
              "2    22\n",
              "Name:  年齡, dtype: int64"
            ],
            "text/html": [
              "<div>\n",
              "<style scoped>\n",
              "    .dataframe tbody tr th:only-of-type {\n",
              "        vertical-align: middle;\n",
              "    }\n",
              "\n",
              "    .dataframe tbody tr th {\n",
              "        vertical-align: top;\n",
              "    }\n",
              "\n",
              "    .dataframe thead th {\n",
              "        text-align: right;\n",
              "    }\n",
              "</style>\n",
              "<table border=\"1\" class=\"dataframe\">\n",
              "  <thead>\n",
              "    <tr style=\"text-align: right;\">\n",
              "      <th></th>\n",
              "      <th>年齡</th>\n",
              "    </tr>\n",
              "  </thead>\n",
              "  <tbody>\n",
              "    <tr>\n",
              "      <th>0</th>\n",
              "      <td>25</td>\n",
              "    </tr>\n",
              "    <tr>\n",
              "      <th>1</th>\n",
              "      <td>30</td>\n",
              "    </tr>\n",
              "    <tr>\n",
              "      <th>2</th>\n",
              "      <td>22</td>\n",
              "    </tr>\n",
              "  </tbody>\n",
              "</table>\n",
              "</div><br><label><b>dtype:</b> int64</label>"
            ]
          },
          "metadata": {},
          "execution_count": 5
        }
      ]
    },
    {
      "cell_type": "markdown",
      "source": [
        "### 5. **添加與刪除列**\n",
        "\n",
        "#### 5.1 添加新列："
      ],
      "metadata": {
        "id": "jaaOC5rZaDHx"
      }
    },
    {
      "cell_type": "code",
      "source": [
        "df['職業'] = ['工程師', '設計師', '老師']\n",
        "df['興趣'] = ['爬山', '閱讀', '烹飪']\n",
        "print(df)"
      ],
      "metadata": {
        "colab": {
          "base_uri": "https://localhost:8080/"
        },
        "id": "baUz2eL5aENI",
        "outputId": "976311b2-7ef0-46d6-d21c-2a1486fdf1c5"
      },
      "execution_count": null,
      "outputs": [
        {
          "output_type": "stream",
          "name": "stdout",
          "text": [
            "    姓名   年齡   城市   職業  興趣\n",
            "0  王小明   25   台北  工程師  爬山\n",
            "1  李美麗   30   高雄  設計師  閱讀\n",
            "2  張大偉   22   台中   老師  烹飪\n"
          ]
        }
      ]
    },
    {
      "cell_type": "markdown",
      "source": [
        "#### 5.2 刪除列："
      ],
      "metadata": {
        "id": "HQTb1dsfaFdG"
      }
    },
    {
      "cell_type": "code",
      "source": [
        "df = df.drop('職業', axis=1)  # 刪除 \"職業\" 列\n",
        "print(df)"
      ],
      "metadata": {
        "colab": {
          "base_uri": "https://localhost:8080/"
        },
        "id": "kNY4wiy3aGeB",
        "outputId": "64bb116b-5d32-425e-f3f4-e8a274ffa85a"
      },
      "execution_count": null,
      "outputs": [
        {
          "output_type": "stream",
          "name": "stdout",
          "text": [
            "    姓名   年齡   城市  興趣\n",
            "0  王小明   25   台北  爬山\n",
            "1  李美麗   30   高雄  閱讀\n",
            "2  張大偉   22   台中  烹飪\n"
          ]
        }
      ]
    },
    {
      "cell_type": "markdown",
      "source": [
        "### 6. **數據運算**\n",
        "\n",
        "#### 6.1 對列進行數學運算："
      ],
      "metadata": {
        "id": "2GKpiE9RaHxY"
      }
    },
    {
      "cell_type": "code",
      "source": [
        "df['年齡'] += 1  # 年齡全部加1\n",
        "print(df)"
      ],
      "metadata": {
        "colab": {
          "base_uri": "https://localhost:8080/"
        },
        "id": "V0z3smF2aIwG",
        "outputId": "80caa193-63cb-412c-dd61-491afef0ebca"
      },
      "execution_count": null,
      "outputs": [
        {
          "output_type": "stream",
          "name": "stdout",
          "text": [
            "    姓名  年齡  城市  興趣\n",
            "0  王小明  26  台北  爬山\n",
            "1  李美麗  31  高雄  閱讀\n",
            "2  張大偉  23  台中  烹飪\n"
          ]
        }
      ]
    },
    {
      "cell_type": "code",
      "source": [
        "# 插入新數據\n",
        "df.loc[len(df)] = ['陳建國', 28, '台北', '跑步']\n",
        "df.loc[len(df)] = ['吳芳芳', 29, '高雄', '音樂']\n",
        "df.loc[len(df)] = ['林立群', 27, '台中', '攝影']\n",
        "print(df)"
      ],
      "metadata": {
        "colab": {
          "base_uri": "https://localhost:8080/"
        },
        "id": "nnAtI5_EfnHk",
        "outputId": "5a83401e-ee60-4c4e-bede-7e6d72effac0"
      },
      "execution_count": null,
      "outputs": [
        {
          "output_type": "stream",
          "name": "stdout",
          "text": [
            "    姓名   年齡   城市  興趣\n",
            "0  王小明   25   台北  爬山\n",
            "1  李美麗   30   高雄  閱讀\n",
            "2  張大偉   22   台中  烹飪\n",
            "3  陳建國   28   台北  跑步\n",
            "4  吳芳芳   29   高雄  音樂\n",
            "5  林立群   27   台中  攝影\n"
          ]
        }
      ]
    },
    {
      "cell_type": "markdown",
      "source": [
        "#### 6.2 分組與聚合（GroupBy）："
      ],
      "metadata": {
        "id": "ub68fMIlaJ_m"
      }
    },
    {
      "cell_type": "code",
      "source": [
        "grouped = df.groupby('城市')['年齡'].mean()  # 按城市分組，並計算年齡的平均值\n",
        "print(grouped)"
      ],
      "metadata": {
        "colab": {
          "base_uri": "https://localhost:8080/"
        },
        "id": "QzNaMK1HaK8C",
        "outputId": "65993f51-a2ef-4f9e-ecfb-b9d7e62e6f18"
      },
      "execution_count": null,
      "outputs": [
        {
          "output_type": "stream",
          "name": "stdout",
          "text": [
            "城市\n",
            "台中    25.0\n",
            "台北    27.0\n",
            "高雄    30.0\n",
            "Name: 年齡, dtype: float64\n"
          ]
        }
      ]
    },
    {
      "cell_type": "markdown",
      "source": [
        "### 7. **處理缺失值**\n",
        "\n",
        "#### 7.1 檢查缺失值："
      ],
      "metadata": {
        "id": "liZ8XvnxaMFr"
      }
    },
    {
      "cell_type": "code",
      "source": [
        "df.loc[len(df)] = ['吳其仁', None, None, '音樂']\n",
        "df.loc[len(df)] = ['李大仁', None, '台中', None]\n",
        "print(df.isnull())  # 查看哪裡有缺失值\n",
        "print(df)"
      ],
      "metadata": {
        "colab": {
          "base_uri": "https://localhost:8080/"
        },
        "id": "P5Gg56tZaNQV",
        "outputId": "d12cff6f-7f6d-430a-8f85-c40d807ad5b6"
      },
      "execution_count": null,
      "outputs": [
        {
          "output_type": "stream",
          "name": "stdout",
          "text": [
            "      姓名     年齡     城市     興趣\n",
            "0  False  False  False  False\n",
            "1  False  False  False  False\n",
            "2  False  False  False  False\n",
            "3  False  False  False  False\n",
            "4  False  False  False  False\n",
            "5  False  False  False  False\n",
            "6  False   True   True  False\n",
            "7  False   True  False   True\n",
            "    姓名    年齡    城市    興趣\n",
            "0  王小明    26    台北    爬山\n",
            "1  李美麗    31    高雄    閱讀\n",
            "2  張大偉    23    台中    烹飪\n",
            "3  陳建國    28    台北    跑步\n",
            "4  吳芳芳    29    高雄    音樂\n",
            "5  林立群    27    台中    攝影\n",
            "6  吳其仁  None  None    音樂\n",
            "7  李大仁  None    台中  None\n"
          ]
        }
      ]
    },
    {
      "cell_type": "markdown",
      "source": [
        "#### 7.2 填補缺失值："
      ],
      "metadata": {
        "id": "KcyuYSoBaOm8"
      }
    },
    {
      "cell_type": "code",
      "source": [
        "df['年齡'].fillna(0, inplace=True)  # 將 \"年齡\" 列中的缺失值填補為 0\n",
        "df['城市'].fillna('不明', inplace=True)\n",
        "print(df)"
      ],
      "metadata": {
        "colab": {
          "base_uri": "https://localhost:8080/"
        },
        "id": "sv9NIlPWaPyg",
        "outputId": "4a728422-7b29-423e-aaf6-e8d9a98e6ce3"
      },
      "execution_count": null,
      "outputs": [
        {
          "output_type": "stream",
          "name": "stdout",
          "text": [
            "    姓名  年齡  城市    興趣\n",
            "0  王小明  26  台北    爬山\n",
            "1  李美麗  31  高雄    閱讀\n",
            "2  張大偉  23  台中    烹飪\n",
            "3  陳建國  28  台北    跑步\n",
            "4  吳芳芳  29  高雄    音樂\n",
            "5  林立群  27  台中    攝影\n",
            "6  吳其仁   0  不明    音樂\n",
            "7  李大仁   0  台中  None\n"
          ]
        }
      ]
    },
    {
      "cell_type": "markdown",
      "source": [
        "#### 7.3 刪除含有缺失值的行："
      ],
      "metadata": {
        "id": "tk_2c1EKaRmn"
      }
    },
    {
      "cell_type": "code",
      "source": [
        "df.dropna(inplace=True)  # 刪除含有任何缺失值的行\n",
        "print(df)"
      ],
      "metadata": {
        "colab": {
          "base_uri": "https://localhost:8080/"
        },
        "id": "b8E2vcwmaSsU",
        "outputId": "180681f1-e971-4724-ea5a-2238a47c73db"
      },
      "execution_count": null,
      "outputs": [
        {
          "output_type": "stream",
          "name": "stdout",
          "text": [
            "    姓名  年齡  城市  興趣\n",
            "0  王小明  26  台北  爬山\n",
            "1  李美麗  31  高雄  閱讀\n",
            "2  張大偉  23  台中  烹飪\n",
            "3  陳建國  28  台北  跑步\n",
            "4  吳芳芳  29  高雄  音樂\n",
            "5  林立群  27  台中  攝影\n",
            "6  吳其仁   0  不明  音樂\n"
          ]
        }
      ]
    },
    {
      "cell_type": "markdown",
      "source": [
        "### 8. **排序數據**\n",
        "\n",
        "#### 8.1 根據單一列排序："
      ],
      "metadata": {
        "id": "uOwNUtYlaTuu"
      }
    },
    {
      "cell_type": "code",
      "source": [
        "df.sort_values(by='年齡', ascending=False, inplace=True)  # 根據年齡降序排序\n",
        "print(df)"
      ],
      "metadata": {
        "colab": {
          "base_uri": "https://localhost:8080/"
        },
        "id": "DLBMbtvLaUs9",
        "outputId": "a92f1157-fdda-49c6-a875-6603dd434d4a"
      },
      "execution_count": null,
      "outputs": [
        {
          "output_type": "stream",
          "name": "stdout",
          "text": [
            "    姓名  年齡  城市  興趣\n",
            "1  李美麗  31  高雄  閱讀\n",
            "4  吳芳芳  29  高雄  音樂\n",
            "3  陳建國  28  台北  跑步\n",
            "5  林立群  27  台中  攝影\n",
            "0  王小明  26  台北  爬山\n",
            "2  張大偉  23  台中  烹飪\n",
            "6  吳其仁   0  不明  音樂\n"
          ]
        }
      ]
    },
    {
      "cell_type": "markdown",
      "source": [
        "#### 8.2 根據多列排序："
      ],
      "metadata": {
        "id": "qOxuVC6baVuR"
      }
    },
    {
      "cell_type": "code",
      "source": [
        "df.sort_values(by=['城市', '年齡'], ascending=[True, False], inplace=True)  # 先按城市升序，再按年齡降序\n",
        "print(df)"
      ],
      "metadata": {
        "colab": {
          "base_uri": "https://localhost:8080/"
        },
        "id": "tBR10xQLaW_A",
        "outputId": "b9f82ef1-97a0-4948-eeb8-c069e83b5785"
      },
      "execution_count": null,
      "outputs": [
        {
          "output_type": "stream",
          "name": "stdout",
          "text": [
            "    姓名  年齡  城市  興趣\n",
            "6  吳其仁   0  不明  音樂\n",
            "5  林立群  27  台中  攝影\n",
            "2  張大偉  23  台中  烹飪\n",
            "3  陳建國  28  台北  跑步\n",
            "0  王小明  26  台北  爬山\n",
            "1  李美麗  31  高雄  閱讀\n",
            "4  吳芳芳  29  高雄  音樂\n"
          ]
        }
      ]
    },
    {
      "cell_type": "markdown",
      "source": [
        "### 9. **輸出數據**\n",
        "\n",
        "#### 9.1 將 `DataFrame` 儲存為 CSV 文件："
      ],
      "metadata": {
        "id": "btiFTdV9aYOj"
      }
    },
    {
      "cell_type": "code",
      "source": [
        "df.to_csv('output.csv', index=False)  # 儲存時不包括索引"
      ],
      "metadata": {
        "id": "rCU0Ab9XaZda"
      },
      "execution_count": null,
      "outputs": []
    }
  ]
}